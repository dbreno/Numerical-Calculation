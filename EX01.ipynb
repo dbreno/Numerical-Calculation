{
  "nbformat": 4,
  "nbformat_minor": 0,
  "metadata": {
    "colab": {
      "provenance": []
    },
    "kernelspec": {
      "name": "python3",
      "display_name": "Python 3"
    },
    "language_info": {
      "name": "python"
    }
  },
  "cells": [
    {
      "cell_type": "markdown",
      "source": [
        "# **Implementação de Métodos Numéricos para encontrar zero de funções reais em Python**\n",
        "\n",
        "Este notebook é dedicado à aplicação de implementações, em programação, na linguagem Python, de métodos numéricos estudados na disciplina de Cálculo Numérico para encontrar zero de funções reais, a fim de resolver 3 dos exercícios da lista de exercícios proposta como forma de avaliação, sendo essa a primeira da disciplina.\n",
        "\n",
        "## **Sumário**\n",
        "\n",
        "\n",
        "\n",
        "1.   [NumPy](#section1)\n",
        "2.   [Matplotlib](#section2)\n",
        "3.   [Pandas](#section3)\n",
        "4.   [Sympy](#section4)\n",
        "5.   [Exercício 1](#section5)\n",
        "6.   [Exercício 2](#section6)\n",
        "7.   [Exercício 3](#section7)\n",
        "\n",
        "\n"
      ],
      "metadata": {
        "id": "DgAxq3Kaba2m"
      }
    },
    {
      "cell_type": "markdown",
      "source": [
        "<a name=\"section1\"></a>\n",
        "## 1. NumPy\n",
        "\n",
        "NumPy é uma poderosa biblioteca em Python usada principalmente para computação numérica e manipulação de arrays multidimensionais. Ela oferece uma coleção de funções e operações eficientes para trabalhar com grandes conjuntos de dados numéricos.\n",
        "\n",
        "**Principais Características:**\n",
        "\n",
        "*   **Arrays N-dimensionais:** Permite criar e manipular arrays multidimensionais (matrizes) de forma eficiente.\n",
        "*   **Funções Matemáticas:** Inclui um vasto conjunto de funções matemáticas para operações elementares, trigonométricas, estatísticas, entre outras.\n",
        "*   **Operações de Álgebra Linear:** Suporta operações avançadas de álgebra linear, como inversão de matrizes, decomposições, entre outras.\n",
        "*  **Integração com Código C/Fortran:** Utiliza implementações eficientes em C/Fortran para desempenho otimizado.\n",
        "\n",
        "**Exemplo de Uso Básico:**\n",
        "\n",
        "Aqui está um exemplo simples de como criar um array NumPy e realizar uma operação básica:\n",
        "\n",
        "```python\n",
        "import numpy as np\n",
        "\n",
        "# Criando um array NumPy\n",
        "arr = np.array([1, 2, 3, 4, 5])\n",
        "\n",
        "# Multiplicando todos os elementos por 2\n",
        "arr_times_two = arr * 2\n",
        "\n",
        "print(\"Array original:\", arr)\n",
        "print(\"Array multiplicado por 2:\", arr_times_two)\n",
        "\n",
        "```"
      ],
      "metadata": {
        "id": "Z4zY16Huc5y_"
      }
    },
    {
      "cell_type": "code",
      "source": [
        "import numpy as np"
      ],
      "metadata": {
        "id": "MO5sf5ZGdB8P"
      },
      "execution_count": 1,
      "outputs": []
    },
    {
      "cell_type": "markdown",
      "source": [
        "<a name=\"section2\"></a>\n",
        "## 2. Matplotlib\n",
        "\n",
        "Matplotlib é uma biblioteca em Python amplamente utilizada para criação de gráficos e visualizações de dados. Com ela, é possível gerar uma variedade de gráficos, desde simples plots de linha até gráficos complexos em 3D.\n",
        "\n",
        "**Principais Características:**\n",
        "\n",
        "*   **Flexibilidade:** Oferece controle detalhado sobre cada elemento do gráfico, incluindo cores, estilos de linha, marcadores, entre outros.\n",
        "*   **Diversos Tipos de Gráficos:** Suporta a criação de gráficos de linha, barras, dispersão, histogramas, gráficos de contorno, gráficos de pizza, entre outros.\n",
        "*   **Integração com NumPy:** Compatível com arrays NumPy para fácil visualização de dados numéricos.\n",
        "*   **Personalização Avançada:** Permite adicionar texto, legendas, títulos e anotações aos gráficos, além de ajustar os eixos e escalas conforme necessário.\n",
        "\n",
        "**Exemplo de Uso Básico:**\n",
        "\n",
        "Aqui está um exemplo simples de como criar um gráfico de linha usando Matplotlib:\n",
        "\n",
        "```python\n",
        "import matplotlib.pyplot as plt\n",
        "import numpy as np\n",
        "\n",
        "# Dados para o eixo x\n",
        "x = np.linspace(0, 10, 100)\n",
        "\n",
        "# Dados para o eixo y (seno de x)\n",
        "y = np.sin(x)\n",
        "\n",
        "# Plotando o gráfico de linha\n",
        "plt.plot(x, y, label='seno(x)')\n",
        "plt.title('Gráfico de Seno')\n",
        "plt.xlabel('x')\n",
        "plt.ylabel('seno(x)')\n",
        "plt.legend()\n",
        "plt.grid(True)\n",
        "plt.show()\n",
        "```"
      ],
      "metadata": {
        "id": "Oy_ez0wPdegs"
      }
    },
    {
      "cell_type": "code",
      "source": [
        "import matplotlib.pyplot as plt"
      ],
      "metadata": {
        "id": "6dH0TvKbdqOu"
      },
      "execution_count": 2,
      "outputs": []
    },
    {
      "cell_type": "markdown",
      "source": [
        "<a name=\"section3\"></a>\n",
        "## 3. Pandas\n",
        "\n",
        "O Pandas é uma biblioteca de Python para manipulação e análise de dados. Suas principais funcionalidades incluem:\n",
        "\n",
        "**Estruturas de Dados:**\n",
        "*   Séries: Estrutura unidimensional, semelhante a uma lista.\n",
        "*   DataFrame: Estrutura bidimensional, semelhante a uma tabela.\n",
        "\n",
        "**Leitura e Escrita de Dados:**\n",
        "*   Leitura de arquivos em formatos como CSV, Excel, JSON.\n",
        "*   Escrita de dados em vários formatos.\n",
        "\n",
        "**Manipulação de Dados:**\n",
        "*   Seleção, filtragem e modificação de dados.\n",
        "*   Tratamento de dados ausentes.\n",
        "*   Agrupamento e agregação de dados.\n",
        "\n",
        "**Operações Estatísticas e Matemáticas:**\n",
        "*   Cálculo de estatísticas descritivas.\n",
        "*   Aplicação de funções e operações aritméticas.\n",
        "\n",
        "**Visualização de Dados:**\n",
        "*   Integração com bibliotecas de visualização, como Matplotlib e Seaborn.\n",
        "\n",
        "**Exemplo Básico:**\n",
        "\n",
        "```python\n",
        "import pandas as pd\n",
        "\n",
        "# Leitura de um arquivo CSV em um DataFrame\n",
        "df = pd.read_csv('dados.csv')\n",
        "\n",
        "# Exibição das primeiras linhas do DataFrame\n",
        "print(df.head())\n",
        "\n",
        "# Seleção de uma coluna específica\n",
        "coluna = df['nome_coluna']\n",
        "\n",
        "# Filtragem de linhas com base em uma condição\n",
        "filtrado = df[df['idade'] > 30]\n",
        "\n",
        "# Agrupamento de dados e cálculo da média\n",
        "agrupado = df.groupby('categoria').mean()\n",
        "\n",
        "# Escrita do DataFrame resultante em um novo arquivo CSV\n",
        "agrupado.to_csv('dados_agrupados.csv')\n",
        "```\n",
        "\n",
        "\n",
        "\n",
        "\n"
      ],
      "metadata": {
        "id": "FLmbBwgKduCR"
      }
    },
    {
      "cell_type": "code",
      "source": [
        "import pandas as pd"
      ],
      "metadata": {
        "id": "eCL3komNfvsN"
      },
      "execution_count": 3,
      "outputs": []
    },
    {
      "cell_type": "markdown",
      "source": [
        "<a name=\"section4\"></a>\n",
        "## 4. Sympy\n",
        "\n",
        "A biblioteca SymPy é uma poderosa ferramenta de computação simbólica em Python, projetada para realizar manipulações matemáticas simbólicas em vez de numéricas.\n",
        "\n",
        "\n",
        "**Aqui estão alguns pontos principais:**\n",
        "\n",
        "\n",
        "**Manipulação Simbólica:** SymPy permite trabalhar com símbolos matemáticos, como variáveis, expressões simbólicas, matrizes simbólicas, etc. Isso é útil para resolver problemas matemáticos de forma geral, sem a necessidade de valores numéricos específicos.\n",
        "\n",
        "\n",
        "**Álgebra Simbólica:** Pode realizar operações algébricas como simplificação de expressões, expansão de polinômios, fatoração, resolução de equações simbólicas, e manipulação de funções simbólicas.\n",
        "\n",
        "\n",
        "**Cálculo Simbólico:** SymPy suporta diferenciação e integração simbólica, além de limites, séries de Taylor, e outras operações cálculas avançadas.\n",
        "\n",
        "\n",
        "**Álgebra Linear:** Possui funcionalidades para lidar com sistemas de equações lineares, matrizes, determinantes, e outras operações típicas da álgebra linear.\n",
        "\n",
        "\n",
        "**Equações Diferenciais:** SymPy pode resolver equações diferenciais ordinárias (ODEs) simbolicamente, encontrando soluções gerais ou particulares.\n",
        "\n",
        "\n",
        "**Geometria:** Inclui módulos para geometria analítica, como pontos, linhas, círculos, e funções para calcular distâncias, áreas, e interseções.\n",
        "\n",
        "\n",
        "**Extensibilidade:** É uma biblioteca Python pura e pode ser facilmente estendida com funções personalizadas e integrações com outras bibliotecas científicas.\n",
        "\n",
        "Segue abaixo um exemplo simples de uso da biblioteca SymPy para resolver uma equação simbólica e realizar operações algébricas:\n",
        "\n",
        "```python\n",
        "from sympy import symbols, Eq, solve\n",
        "\n",
        "# Definindo símbolos\n",
        "x = symbols('x')\n",
        "\n",
        "# Definindo uma equação simbólica\n",
        "equacao = Eq(x**2 - 5*x + 6, 0)\n",
        "\n",
        "# Resolvendo a equação\n",
        "solucao = solve(equacao, x)\n",
        "\n",
        "# Imprimindo a solução\n",
        "print(f'As soluções da equação são: {solucao}')\n",
        "```"
      ],
      "metadata": {
        "id": "_46dVG2FMiXR"
      }
    },
    {
      "cell_type": "code",
      "source": [
        "from sympy import symbols, diff, lambdify"
      ],
      "metadata": {
        "id": "a5zPjN6SUnEH"
      },
      "execution_count": 4,
      "outputs": []
    },
    {
      "cell_type": "markdown",
      "source": [
        "<a name=\"section5\"></a>\n",
        "## 5. Exercício 1\n",
        "<img src=\"https://i.ibb.co/7pfCcpz/Captura-de-tela-2024-07-22-143603.png\">\n",
        "\n",
        "\n",
        "Para a resolução da questão 1, optou-se por utilizar o método da bissecção. Note que a variável a ser estudada na função que a questão propõe é `t`, que diz respeito ao tempo. Sendo assim, todas as demais variáveis presentes na função foram fornecidas, pelo exercício, para serem substituídas e achar o valor desejado. Como o método da bissecção tenta achar uma raiz aproximada em um dado intervalo, também fornecido, vide enunciado [6,8], e com o total de iterações determinado pela tolerância de 0,8%, 0,8/100 ou 0,008, é totalmente viável obter uma resolução por meio da implementação desse método, aplicado à realidade do exercício, na linguagem python com o uso das bibliotecas preteriamente elencadas. Só que como é pedido o instante quando a velocidade é 100, isso pode ser levado à realidade de deslocar o gráfico verticalmente 100 unidades para baixo, pois isso refletirá esse instante como sendo uma raiz, sendo totalmente possível realizar por meio do método.\n"
      ],
      "metadata": {
        "id": "Gib17q2WgA3q"
      }
    },
    {
      "cell_type": "markdown",
      "source": [
        "### 5.1 Criação da Tabela da Bissecção\n",
        "\n",
        "A tabela é criada usando a biblioteca Pandas para armazenar e atualizar os valores das iterações do método da bissecção."
      ],
      "metadata": {
        "id": "a9gih-0bgvHf"
      }
    },
    {
      "cell_type": "code",
      "source": [
        "# Area da criacao da tabela\n",
        "tabela_bissec = pd.DataFrame(columns=['k', 'ak', 'bk', 'f(ak)', 'f(bk)', 'x k+1', 'f(x k+1)'])"
      ],
      "metadata": {
        "id": "EMoMOguZiNUt"
      },
      "execution_count": 5,
      "outputs": []
    },
    {
      "cell_type": "markdown",
      "source": [
        "### 5.2 Função auxiliar para plotar gráfico da função"
      ],
      "metadata": {
        "id": "rja66zHuidnx"
      }
    },
    {
      "cell_type": "code",
      "source": [
        "def plotar_funcao(f, a, b, c, d, titulo):\n",
        "    x = np.linspace(a, b, 400)\n",
        "    y = f(x)\n",
        "    plt.figure(figsize=(10, 10))\n",
        "    plt.plot(x, y, label='f(x)')\n",
        "    plt.axhline(0, color='black', linewidth=0.5)\n",
        "    plt.axvline(0, color='black', linewidth=0.5)\n",
        "    plt.xlim(a, b)\n",
        "    plt.ylim(c, d)\n",
        "    plt.title(titulo)\n",
        "    plt.legend()\n",
        "    plt.grid(True)\n",
        "    plt.show()"
      ],
      "metadata": {
        "id": "7fpQ6BQmisX4"
      },
      "execution_count": 6,
      "outputs": []
    },
    {
      "cell_type": "markdown",
      "source": [
        "### 5.3 Definindo a função proposta pelo exercício, uso do TVM e método da bissecção\n",
        "\n",
        "Definindo a função do exercício já com os valores da variáveis aplicados,\n",
        "o Teorema do Valor Médio, e a lógica para o método da bissecção.\n",
        "\n"
      ],
      "metadata": {
        "id": "YSSmPYaXix6k"
      }
    },
    {
      "cell_type": "code",
      "execution_count": 7,
      "metadata": {
        "id": "vigBfbyot1KQ"
      },
      "outputs": [],
      "source": [
        "def f(x):\n",
        "    return 200 * np.log(1600/(1600 - (27 * x))) + 9.8 * x - 100\n",
        "\n",
        "\n",
        "def TVM(x1, x2):\n",
        "    return (f(x1) * f(x2)) < 0\n",
        "\n",
        "def bissec(x1, x2, e):\n",
        "    global tabela_bissec\n",
        "    k = 0\n",
        "    vm = (x1 + x2) / 2\n",
        "    nova_linha = pd.DataFrame({'k': [k], 'ak':[x1], 'bk':[x2], 'f(ak)':[f(x1)], 'f(bk)':[f(x2)], 'x k+1':[vm], 'f(x k+1)': [f(vm)]})\n",
        "    tabela_bissec = pd.concat([tabela_bissec, nova_linha], ignore_index=True)\n",
        "\n",
        "    while abs(f(vm)) >= e:\n",
        "\n",
        "        if TVM(x1, vm):\n",
        "            x2 = vm\n",
        "            vm = (x1 + x2) / 2\n",
        "            k+=1\n",
        "            nova_linha = pd.DataFrame({'k': [k], 'ak':[x1], 'bk':[x2], 'f(ak)':[f(x1)], 'f(bk)':[f(x2)], 'x k+1':[vm], 'f(x k+1)': [f(vm)]})\n",
        "            tabela_bissec = pd.concat([tabela_bissec, nova_linha], ignore_index=True)\n",
        "        else:\n",
        "            x1 = vm\n",
        "            vm = (x1 + x2) / 2\n",
        "            k+=1\n",
        "            nova_linha = pd.DataFrame({'k': [k], 'ak':[x1], 'bk':[x2], 'f(ak)':[f(x1)], 'f(bk)':[f(x2)], 'x k+1':[vm], 'f(x k+1)': [f(vm)]})\n",
        "            tabela_bissec = pd.concat([tabela_bissec, nova_linha], ignore_index=True)\n",
        "\n",
        "    return vm"
      ]
    },
    {
      "cell_type": "markdown",
      "source": [
        "### 5.4 Uso da Main para executar o código"
      ],
      "metadata": {
        "id": "QuvhvCApjaOR"
      }
    },
    {
      "cell_type": "code",
      "source": [
        "def main():\n",
        "    f = lambda x: 200 * np.log(1600/(1600 - (27 * x))) + 9.8 * x\n",
        "    x1 = 6\n",
        "    x2 = 8\n",
        "    e = 0.008\n",
        "    plotar_funcao(f, -2000, 2000, -1500, 1000, 'Função v = u.ln(M0 / M0 - c.t) + g.t')\n",
        "    xk = bissec(x1, x2, e)\n",
        "    print(f\"O valor mais próximo do ponto de parada é: {xk}\")\n",
        "\n",
        "if __name__ == \"__main__\":\n",
        "  main()"
      ],
      "metadata": {
        "id": "zKtD3pq4jb91",
        "colab": {
          "base_uri": "https://localhost:8080/",
          "height": 960
        },
        "outputId": "ee2c894b-85dd-4654-921a-ec1fc658945e"
      },
      "execution_count": 8,
      "outputs": [
        {
          "output_type": "stream",
          "name": "stderr",
          "text": [
            "<ipython-input-8-e1ea17653495>:2: RuntimeWarning: invalid value encountered in log\n",
            "  f = lambda x: 200 * np.log(1600/(1600 - (27 * x))) + 9.8 * x\n"
          ]
        },
        {
          "output_type": "display_data",
          "data": {
            "text/plain": [
              "<Figure size 1000x1000 with 1 Axes>"
            ],
            "image/png": "[encoded data removed]"
          },
          "metadata": {}
        },
        {
          "output_type": "stream",
          "name": "stdout",
          "text": [
            "O valor mais próximo do ponto de parada é: 7.458984375\n"
          ]
        },
        {
          "output_type": "stream",
          "name": "stderr",
          "text": [
            "<ipython-input-7-bab4df807de7>:13: FutureWarning: The behavior of DataFrame concatenation with empty or all-NA entries is deprecated. In a future version, this will no longer exclude empty or all-NA columns when determining the result dtypes. To retain the old behavior, exclude the relevant entries before the concat operation.\n",
            "  tabela_bissec = pd.concat([tabela_bissec, nova_linha], ignore_index=True)\n"
          ]
        }
      ]
    },
    {
      "cell_type": "code",
      "source": [
        "# Tabela\n",
        "print(tabela_bissec)"
      ],
      "metadata": {
        "id": "gmvHmxe4kJtb",
        "colab": {
          "base_uri": "https://localhost:8080/"
        },
        "outputId": "12cee612-f1dc-4054-ea1e-9fc308b9ad06"
      },
      "execution_count": 9,
      "outputs": [
        {
          "output_type": "stream",
          "name": "stdout",
          "text": [
            "   k        ak        bk      f(ak)     f(bk)     x k+1  f(x k+1)\n",
            "0  0         6         8 -19.849926  7.405154  7.000000 -6.259009\n",
            "1  1       7.0         8  -6.259009  7.405154  7.500000  0.563741\n",
            "2  2       7.0       7.5  -6.259009  0.563741  7.250000 -2.849945\n",
            "3  3      7.25       7.5  -2.849945  0.563741  7.375000 -1.143682\n",
            "4  4     7.375       7.5  -1.143682  0.563741  7.437500 -0.290116\n",
            "5  5    7.4375       7.5  -0.290116  0.563741  7.468750  0.136776\n",
            "6  6    7.4375   7.46875  -0.290116  0.136776  7.453125 -0.076679\n",
            "7  7  7.453125   7.46875  -0.076679  0.136776  7.460938  0.030046\n",
            "8  8  7.453125  7.460938  -0.076679  0.030046  7.457031 -0.023317\n",
            "9  9  7.457031  7.460938  -0.023317  0.030046  7.458984  0.003364\n"
          ]
        }
      ]
    },
    {
      "cell_type": "markdown",
      "source": [
        "<a name=\"section6\"></a>\n",
        "## 6. Exercício 2\n",
        "<img src=\"https://i.ibb.co/zSyy6c7/Captura-de-tela-2024-07-22-152942.png\">\n",
        "\n",
        "Na questão 2, optou-se por utilizar o método da falsa-posição. O gráfico, assim como na questão 1, teve que ser deslocado 4 unidades para baixo, verticalmente, no eixo y, para poder aplicar o método. A variável a ser alcançada é `x`, a distância do rio abaixo. O erro também é dado pela questão, de 1%, mas o intervalo foi escolhido de modo predeterminado para que fosse facilitado o encontro do valor de x."
      ],
      "metadata": {
        "id": "cW78VuKLtBxW"
      }
    },
    {
      "cell_type": "markdown",
      "source": [
        "### 6.1 Criação da Tabela da Falsa Posição"
      ],
      "metadata": {
        "id": "sZN-dDWDtjZj"
      }
    },
    {
      "cell_type": "code",
      "source": [
        "# Criação da tabela\n",
        "tabela_falsa_posicao = pd.DataFrame(columns=['k', 'ak', 'bk', 'f(ak)', 'f(bk)', 'x k+1', 'f(x k+1)'])"
      ],
      "metadata": {
        "id": "DCsf5qCUtttN"
      },
      "execution_count": 10,
      "outputs": []
    },
    {
      "cell_type": "markdown",
      "source": [
        "### 6.2 Função Auxiliar para Plotar Gráfico da Função\n"
      ],
      "metadata": {
        "id": "n6kMW5Sltv84"
      }
    },
    {
      "cell_type": "code",
      "source": [
        "def plotar_funcao(f, a, b, titulo):\n",
        "    x = np.linspace(a, b, 400)\n",
        "    y = f(x)\n",
        "    plt.figure(figsize=(10, 10))\n",
        "    plt.plot(x, y, label='f(x)')\n",
        "    plt.axhline(0, color='black', linewidth=0.5)\n",
        "    plt.axvline(0, color='black', linewidth=0.5)\n",
        "    plt.xlim(a, b)\n",
        "    plt.ylim(-20, 30)\n",
        "    plt.title(titulo)\n",
        "    plt.legend()\n",
        "    plt.grid(True)\n",
        "    plt.show()"
      ],
      "metadata": {
        "id": "MvbQOSsnt7rs"
      },
      "execution_count": 11,
      "outputs": []
    },
    {
      "cell_type": "markdown",
      "source": [
        "### 6.3 Definindo a função proposta pelo exercício, uso do TVM e método da falsa posição\n",
        "\n",
        "Definindo a função do exercício já com os valores da variáveis aplicados, o Teorema do Valor Médio, e a lógica para o método da falsa posição."
      ],
      "metadata": {
        "id": "TnQxWK_auE5T"
      }
    },
    {
      "cell_type": "code",
      "source": [
        "def f(x):\n",
        "    return 10 - 15 * ((np.exp(-0.1 * x) - np.exp(-0.5 * x))) - 4\n",
        "\n",
        "def TVM(x1, x2):\n",
        "    return f(x1) * f(x2) < 0\n",
        "\n",
        "def falsa_posicao(x1, x2, e):\n",
        "    global tabela_falsa_posicao\n",
        "    if not TVM(x1, x2):\n",
        "        print(\"Não é possível afirmar que existe uma raiz nesse intervalo.\")\n",
        "        return\n",
        "    else:\n",
        "        k = 0\n",
        "        vm = (x1 * abs(f(x2)) + x2 * abs(f(x1)))/(abs(f(x1)) + abs(f(x2)))\n",
        "        nova_linha = pd.DataFrame({'k': [k], 'ak':[x1], 'bk':[x2], 'f(ak)':[f(x1)], 'f(bk)':[f(x2)], 'x k+1':[vm], 'f(x k+1)': [f(vm)]})\n",
        "        tabela_falsa_posicao = pd.concat([tabela_falsa_posicao, nova_linha], ignore_index=True)\n",
        "\n",
        "        while abs(f(vm)) >= e:\n",
        "            k += 1\n",
        "            if TVM(x1, vm):\n",
        "                x2 = vm\n",
        "                vm = (x1 * abs(f(x2)) + x2 * abs(f(x1)))/(abs(f(x1)) + abs(f(x2)))\n",
        "                nova_linha = pd.DataFrame({'k': [k], 'ak':[x1], 'bk':[x2], 'f(ak)':[f(x1)], 'f(bk)':[f(x2)], 'x k+1':[vm], 'f(x k+1)': [f(vm)]})\n",
        "                tabela_falsa_posicao = pd.concat([tabela_falsa_posicao, nova_linha], ignore_index=True)\n",
        "\n",
        "            else:\n",
        "                x1 = vm\n",
        "                vm = (x1 * abs(f(x2)) + x2 * abs(f(x1)))/(abs(f(x1)) + abs(f(x2)))\n",
        "                nova_linha = pd.DataFrame({'k': [k], 'ak':[x1], 'bk':[x2], 'f(ak)':[f(x1)], 'f(bk)':[f(x2)], 'x k+1':[vm], 'f(x k+1)': [f(vm)]})\n",
        "                tabela_falsa_posicao = pd.concat([tabela_falsa_posicao, nova_linha], ignore_index=True)\n",
        "\n",
        "\n",
        "    return vm"
      ],
      "metadata": {
        "id": "yQ0ZGx-LuNGC"
      },
      "execution_count": 12,
      "outputs": []
    },
    {
      "cell_type": "markdown",
      "source": [
        "### 6.4 Uso da Main para executar o código"
      ],
      "metadata": {
        "id": "2dh-n2tzuUN3"
      }
    },
    {
      "cell_type": "code",
      "source": [
        "def main():\n",
        "    f = lambda x: 10 - 15 * ((np.exp(-0.1 * x) - np.exp(-0.5 * x)))\n",
        "    plotar_funcao(f, -40, 40, 'Função C = 10-15 (ℯ^(-0.1 x)-ℯ^(-0.5 x))')\n",
        "    x1 = 1\n",
        "    x2 = 2\n",
        "    e = 0.00000001\n",
        "    vm = falsa_posicao(x1, x2, e)\n",
        "    print(vm)\n",
        "\n",
        "if __name__ == \"__main__\":\n",
        "    main()"
      ],
      "metadata": {
        "colab": {
          "base_uri": "https://localhost:8080/",
          "height": 925
        },
        "id": "Yb9u7GnuuXFv",
        "outputId": "cb47a165-523a-4403-ef65-611edde31ef6"
      },
      "execution_count": 13,
      "outputs": [
        {
          "output_type": "display_data",
          "data": {
            "text/plain": [
              "<Figure size 1000x1000 with 1 Axes>"
            ],
            "image/png": "[encoded data removed]"
          },
          "metadata": {}
        },
        {
          "output_type": "stream",
          "name": "stdout",
          "text": [
            "1.5799647693844685\n"
          ]
        },
        {
          "output_type": "stream",
          "name": "stderr",
          "text": [
            "<ipython-input-12-8db53abf1d5a>:16: FutureWarning: The behavior of DataFrame concatenation with empty or all-NA entries is deprecated. In a future version, this will no longer exclude empty or all-NA columns when determining the result dtypes. To retain the old behavior, exclude the relevant entries before the concat operation.\n",
            "  tabela_falsa_posicao = pd.concat([tabela_falsa_posicao, nova_linha], ignore_index=True)\n"
          ]
        }
      ]
    },
    {
      "cell_type": "code",
      "source": [
        "# Tabela\n",
        "print(tabela_falsa_posicao)"
      ],
      "metadata": {
        "colab": {
          "base_uri": "https://localhost:8080/"
        },
        "id": "m2XThECaw16A",
        "outputId": "dd1ff636-65ed-4fa1-dda9-59f35a342b4f"
      },
      "execution_count": 14,
      "outputs": [
        {
          "output_type": "stream",
          "name": "stdout",
          "text": [
            "     k ak        bk     f(ak)         f(bk)     x k+1      f(x k+1)\n",
            "0    0  1         2  1.525399 -7.627697e-01  1.666646 -1.782120e-01\n",
            "1    1  1  1.666646  1.525399 -1.782120e-01  1.596909 -3.575014e-02\n",
            "2    2  1  1.596909  1.525399 -3.575014e-02  1.583240 -6.945743e-03\n",
            "3    3  1   1.58324  1.525399 -6.945743e-03  1.580597 -1.341014e-03\n",
            "4    4  1  1.580597  1.525399 -1.341014e-03  1.580087 -2.585951e-04\n",
            "5    5  1  1.580087  1.525399 -2.585951e-04  1.579988 -4.985464e-05\n",
            "6    6  1  1.579988  1.525399 -4.985464e-05  1.579969 -9.611061e-06\n",
            "7    7  1  1.579969  1.525399 -9.611061e-06  1.579966 -1.852820e-06\n",
            "8    8  1  1.579966  1.525399 -1.852820e-06  1.579965 -3.571861e-07\n",
            "9    9  1  1.579965  1.525399 -3.571861e-07  1.579965 -6.885819e-08\n",
            "10  10  1  1.579965  1.525399 -6.885819e-08  1.579965 -1.327445e-08\n",
            "11  11  1  1.579965  1.525399 -1.327445e-08  1.579965 -2.559045e-09\n"
          ]
        }
      ]
    },
    {
      "cell_type": "markdown",
      "source": [
        "<a name=\"section7\"></a>\n",
        "## 7. Exercício 3\n",
        "<img src=\"https://i.ibb.co/4ShjWJD/Captura-de-tela-2024-07-23-102652.png\">\n",
        "\n",
        "Na questão 3, optou-se por utilizar o método de Newthon-Raphson estudado em sala de aula. Foram substituídos os valores na função para encontrar a variável desejada `i`. Assim como a questão 1, foi necessário deslocar o gráfico verticalmente, no eixo Y, 249 unidades para baixo a fim de conseguir aplicar o método, considerando que o valor desejado, com o gráfico agora deslocado, se tornasse uma das raízes do gráfico. Observação: é necessário ser uma das raízes não negativas após o deslocamento do gráfico verticalmente, haja vista que não existe taxa de juros negativa."
      ],
      "metadata": {
        "id": "JPKVLCiIxRyM"
      }
    },
    {
      "cell_type": "markdown",
      "source": [
        "### 7.1 Criação da Tabela de Newton-Raphson\n",
        "\n",
        "A tabela é criada usando a biblioteca Pandas para armazenar e atualizar os valores das iterações do método de Newton-Raphson."
      ],
      "metadata": {
        "id": "YN7I4MJ1x4fx"
      }
    },
    {
      "cell_type": "code",
      "source": [
        "# Criando a tabela\n",
        "tabela_newton = pd.DataFrame(columns=['k', 'x','f(x)'])"
      ],
      "metadata": {
        "id": "2YBN2ENgUtCA"
      },
      "execution_count": 15,
      "outputs": []
    },
    {
      "cell_type": "markdown",
      "source": [
        "### 7.2 Função Auxiliar para Plotar Gráfico da Função"
      ],
      "metadata": {
        "id": "Cp5Lt7HpUuUf"
      }
    },
    {
      "cell_type": "code",
      "source": [
        "def plotar_funcao(f, a, b, c, d, titulo):\n",
        "    x = np.linspace(a, b, 400)\n",
        "    y = f(x)\n",
        "    plt.figure(figsize=(10, 10))\n",
        "    plt.plot(x, y, label='f(x)')\n",
        "    plt.axhline(0, color='black', linewidth=0.5)\n",
        "    plt.axvline(0, color='black', linewidth=0.5)\n",
        "    plt.xlim(a, b)\n",
        "    plt.ylim(c, d)\n",
        "    plt.title(titulo)\n",
        "    plt.legend()\n",
        "    plt.grid(True)\n",
        "    plt.show()"
      ],
      "metadata": {
        "id": "WdssvPMPU7ZX"
      },
      "execution_count": 16,
      "outputs": []
    },
    {
      "cell_type": "markdown",
      "source": [],
      "metadata": {
        "id": "99pK3vnVVZIm"
      }
    },
    {
      "cell_type": "markdown",
      "source": [
        "### 7.3 Definindo a função proposta pelo exercício, uso do TVM e método de Newthon-Raphson"
      ],
      "metadata": {
        "id": "RjpWaJV4U88_"
      }
    },
    {
      "cell_type": "markdown",
      "source": [],
      "metadata": {
        "id": "GSw6g8dUVY5d"
      }
    },
    {
      "cell_type": "code",
      "source": [
        "def funcao(x):\n",
        "    try:\n",
        "        return (2499*x)/(1-(pow(1+x, -12))) - 249\n",
        "    except ZeroDivisionError:\n",
        "        return float('inf')\n",
        "\n",
        "def newton_raphson(f, x0, tol, max_iter):\n",
        "    global tabela_newton\n",
        "\n",
        "    reps = 0\n",
        "    valorTeste = x0\n",
        "    nova_linha = pd.DataFrame({'k':[reps], 'x': [valorTeste], 'f(x)': [funcao(valorTeste)]})\n",
        "    tabela_newton = pd.concat([tabela_newton, nova_linha], ignore_index=True)\n",
        "\n",
        "    x = symbols('x')\n",
        "    derivada_funcao = diff(f(x), x)\n",
        "    derivada_funcao_lambdified = lambdify(x, derivada_funcao)\n",
        "\n",
        "    while reps < max_iter:\n",
        "        derivada_vt = derivada_funcao_lambdified(valorTeste)\n",
        "        if derivada_vt == 0:\n",
        "            break\n",
        "\n",
        "        f_vt = funcao(valorTeste)\n",
        "        if abs(f_vt) < tol:\n",
        "            break\n",
        "\n",
        "        valorTeste = valorTeste - (f_vt / derivada_vt)\n",
        "        reps += 1\n",
        "        nova_linha = pd.DataFrame({'k':[reps], 'x': [valorTeste], 'f(x)': [funcao(valorTeste)]})\n",
        "        tabela_newton = pd.concat([tabela_newton, nova_linha], ignore_index=True)\n",
        "\n",
        "    return valorTeste, reps"
      ],
      "metadata": {
        "id": "wOKHyZ55VUgZ"
      },
      "execution_count": 17,
      "outputs": []
    },
    {
      "cell_type": "markdown",
      "source": [
        "### 7.4  Uso da Main para executar o código"
      ],
      "metadata": {
        "id": "tOO7gR-3VYky"
      }
    },
    {
      "cell_type": "code",
      "source": [
        "def main():\n",
        "\n",
        "    f = lambda x: (2499*x)/(1-(pow(1+x, -12)))\n",
        "    plotar_funcao(f, -10, 10, -300, 300, 'Função C = (2499x)/(1 - (1 + x)^-12)')\n",
        "    x0 = 1\n",
        "    tol = 0.00000001\n",
        "    max_iter = 1000\n",
        "    raiz, iteracoes = newton_raphson(f, x0, tol, max_iter)\n",
        "    print(f\"Raiz encontrada: {raiz} em {iteracoes} iterações\")\n",
        "\n",
        "if __name__ == \"__main__\":\n",
        "    main()"
      ],
      "metadata": {
        "colab": {
          "base_uri": "https://localhost:8080/",
          "height": 925
        },
        "id": "727FMDn3VhHX",
        "outputId": "44f6696d-fcdf-43a5-fe9d-d9b3967ccab8"
      },
      "execution_count": 18,
      "outputs": [
        {
          "output_type": "display_data",
          "data": {
            "text/plain": [
              "<Figure size 1000x1000 with 1 Axes>"
            ],
            "image/png": "[encoded data removed]"
          },
          "metadata": {}
        },
        {
          "output_type": "stream",
          "name": "stderr",
          "text": [
            "<ipython-input-17-9eb1fe31049e>:13: FutureWarning: The behavior of DataFrame concatenation with empty or all-NA entries is deprecated. In a future version, this will no longer exclude empty or all-NA columns when determining the result dtypes. To retain the old behavior, exclude the relevant entries before the concat operation.\n",
            "  tabela_newton = pd.concat([tabela_newton, nova_linha], ignore_index=True)\n"
          ]
        },
        {
          "output_type": "stream",
          "name": "stdout",
          "text": [
            "Raiz encontrada: 0.02862597552916326 em 5 iterações\n"
          ]
        }
      ]
    },
    {
      "cell_type": "code",
      "source": [
        "# Tabela\n",
        "print(tabela_newton)"
      ],
      "metadata": {
        "colab": {
          "base_uri": "https://localhost:8080/"
        },
        "id": "Yd7QizYDVgqn",
        "outputId": "88dea4d7-1d6c-4d18-9613-492fea1fa662"
      },
      "execution_count": 19,
      "outputs": [
        {
          "output_type": "stream",
          "name": "stdout",
          "text": [
            "   k         x          f(x)\n",
            "0  0         1  2.250610e+03\n",
            "1  1  0.098294  1.147027e+02\n",
            "2  2  0.034219  8.419500e+00\n",
            "3  3  0.028674  7.169481e-02\n",
            "4  4  0.028626  5.426825e-06\n",
            "5  5  0.028626 -9.947598e-13\n"
          ]
        }
      ]
    }
  ]
}